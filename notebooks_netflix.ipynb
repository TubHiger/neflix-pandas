{
  "metadata": {
    "language_info": {
      "codemirror_mode": {
        "name": "python",
        "version": 3
      },
      "file_extension": ".py",
      "mimetype": "text/x-python",
      "name": "python",
      "nbconvert_exporter": "python",
      "pygments_lexer": "ipython3",
      "version": "3.8"
    },
    "kernelspec": {
      "name": "python",
      "display_name": "Python (Pyodide)",
      "language": "python"
    }
  },
  "nbformat_minor": 4,
  "nbformat": 4,
  "cells": [
    {
      "cell_type": "markdown",
      "source": "import pandas as pd",
      "metadata": {}
    },
    {
      "cell_type": "code",
      "source": "data_frame = pd.read_csv(\"netflix-rotten-tomatoes-metacritic-imdb.csv\", sep=',',\n                         names=['Title', 'Genre', 'Tags', 'Languages','Series or Movie', 'Low review count & high rating', 'Netflix country availability', 'How long the series or movie is', 'Director of content', 'Writer of content','Actors appearing in content', 'Motion Picture Association film rating system','Score from IMDb','Score from Rotten Tomatoes','Score from Metacritic','Awards Received','Awards Nominated','Boxoffice revenue','When the content was released','When the content was released on Netflix','Production companies for the content', 'Link to content on Netflix','Link to content on IMDb','Content summary','Votes on IMDb','Image for content','Poster for content','Trailer for content','Site where trailer is from'])\n\n#reading the file and seating the headers",
      "metadata": {
        "trusted": true
      },
      "execution_count": 28,
      "outputs": []
    },
    {
      "cell_type": "code",
      "source": "df = data_frame.iloc[1:]\n\n#deleting first row of dataset",
      "metadata": {
        "trusted": true
      },
      "execution_count": 29,
      "outputs": []
    },
    {
      "cell_type": "code",
      "source": "ranking = df.sort_values('Low review count & high rating', ascending = False)\n\n#sorted data by Low review count & high rating column by descending ranking",
      "metadata": {
        "trusted": true
      },
      "execution_count": 30,
      "outputs": []
    },
    {
      "cell_type": "code",
      "source": "two = df[['Title','Low review count & high rating']]\nranking = two.sort_values('Low review count & high rating', ascending = False)\n\n#selected two columns 'Title','Low review count & high rating' and sorted the columns by ranking",
      "metadata": {
        "trusted": true
      },
      "execution_count": 33,
      "outputs": []
    },
    {
      "cell_type": "code",
      "source": "df.tail(5)\n\n#df.tail gets the last rows of dataset",
      "metadata": {
        "trusted": true
      },
      "execution_count": 32,
      "outputs": [
        {
          "execution_count": 32,
          "output_type": "execute_result",
          "data": {
            "text/plain": "                                        Title  \\\n83                     K-POP Extreme Survival   \n84            DreamWorks Shreks Swamp Stories   \n85  DreamWorks Happy Holidays from Madagascar   \n86                DreamWorks Holiday Classics   \n87   DreamWorks Kung Fu Panda Awesome Secrets   \n\n                                Genre  \\\n83                                NaN   \n84                                NaN   \n85          Animation, Comedy, Family   \n86          Animation, Comedy, Family   \n87  Animation, Action, Comedy, Family   \n\n                                                 Tags Languages  \\\n83  TV Dramas,TV Programmes,TV Comedies,Romantic T...       NaN   \n84  Animal Tales,Family Comedies,Family Adventures...       NaN   \n85  TV Comedies,Kids TV,Animal Tales,TV Cartoons,T...   English   \n86  TV Comedies,Kids TV,TV Cartoons,TV Programmes,...   English   \n87  TV Comedies,Kids TV,Animal Tales,TV Cartoons,T...   English   \n\n   Series or Movie Low review count & high rating  \\\n83          Series                            NaN   \n84          Series                            NaN   \n85          Series                            8.4   \n86          Series                            8.2   \n87          Series                            8.1   \n\n                         Netflix country availability  \\\n83  South Korea,Argentina,United Kingdom,Australia...   \n84  Russia,Hong Kong,Hungary,Australia,South Korea...   \n85  Belgium,Switzerland,United States,Germany,Unit...   \n86  Belgium,Switzerland,Germany,Argentina,United K...   \n87  Belgium,Switzerland,Germany,United Kingdom,Fra...   \n\n   How long the series or movie is Director of content Writer of content  ...  \\\n83                    < 30 minutes                 NaN               NaN  ...   \n84                    < 30 minutes                 NaN               NaN  ...   \n85                    < 30 minutes                 NaN               NaN  ...   \n86                    < 30 minutes                 NaN               NaN  ...   \n87                    < 30 minutes                 NaN               NaN  ...   \n\n   When the content was released on Netflix  \\\n83                               2015-04-14   \n84                               2015-04-14   \n85                               2015-04-14   \n86                               2015-04-14   \n87                               2015-04-14   \n\n   Production companies for the content  \\\n83                                  NaN   \n84                                  NaN   \n85                                  NaN   \n86                                  Fox   \n87                                  NaN   \n\n                Link to content on Netflix  Link to content on IMDb  \\\n83  https://www.netflix.com/watch/80031595                      NaN   \n84  https://www.netflix.com/watch/70242630                      NaN   \n85  https://www.netflix.com/watch/70259784                      NaN   \n86  https://www.netflix.com/watch/70221348                      NaN   \n87  https://www.netflix.com/watch/70241791                      NaN   \n\n                                      Content summary  Votes on IMDb  \\\n83  Seung Yeon decides to chase her dream of becom...            NaN   \n84  Shrek celebrates Halloween, Puss in Boots is c...            NaN   \n85  Madagascar goes wild with holiday spirit in th...           71.0   \n86  Join your DreamWorks friends for these four ho...           82.0   \n87  In this pair of adventures, Po tells the story...           17.0   \n\n                                    Image for content Poster for content  \\\n83  https://occ-0-2851-38.1.nflxso.net/dnm/api/v6/...                NaN   \n84  https://occ-0-2851-38.1.nflxso.net/dnm/api/v6/...                NaN   \n85  https://occ-0-2773-2774.1.nflxso.net/dnm/api/v...                NaN   \n86  https://occ-0-2851-38.1.nflxso.net/dnm/api/v6/...                NaN   \n87  https://occ-0-2851-38.1.nflxso.net/dnm/api/v6/...                NaN   \n\n   Trailer for content Site where trailer is from  \n83                 NaN                        NaN  \n84                 NaN                        NaN  \n85                 NaN                        NaN  \n86                 NaN                        NaN  \n87                 NaN                        NaN  \n\n[5 rows x 29 columns]",
            "text/html": "<div>\n<style scoped>\n    .dataframe tbody tr th:only-of-type {\n        vertical-align: middle;\n    }\n\n    .dataframe tbody tr th {\n        vertical-align: top;\n    }\n\n    .dataframe thead th {\n        text-align: right;\n    }\n</style>\n<table border=\"1\" class=\"dataframe\">\n  <thead>\n    <tr style=\"text-align: right;\">\n      <th></th>\n      <th>Title</th>\n      <th>Genre</th>\n      <th>Tags</th>\n      <th>Languages</th>\n      <th>Series or Movie</th>\n      <th>Low review count &amp; high rating</th>\n      <th>Netflix country availability</th>\n      <th>How long the series or movie is</th>\n      <th>Director of content</th>\n      <th>Writer of content</th>\n      <th>...</th>\n      <th>When the content was released on Netflix</th>\n      <th>Production companies for the content</th>\n      <th>Link to content on Netflix</th>\n      <th>Link to content on IMDb</th>\n      <th>Content summary</th>\n      <th>Votes on IMDb</th>\n      <th>Image for content</th>\n      <th>Poster for content</th>\n      <th>Trailer for content</th>\n      <th>Site where trailer is from</th>\n    </tr>\n  </thead>\n  <tbody>\n    <tr>\n      <th>83</th>\n      <td>K-POP Extreme Survival</td>\n      <td>NaN</td>\n      <td>TV Dramas,TV Programmes,TV Comedies,Romantic T...</td>\n      <td>NaN</td>\n      <td>Series</td>\n      <td>NaN</td>\n      <td>South Korea,Argentina,United Kingdom,Australia...</td>\n      <td>&lt; 30 minutes</td>\n      <td>NaN</td>\n      <td>NaN</td>\n      <td>...</td>\n      <td>2015-04-14</td>\n      <td>NaN</td>\n      <td>https://www.netflix.com/watch/80031595</td>\n      <td>NaN</td>\n      <td>Seung Yeon decides to chase her dream of becom...</td>\n      <td>NaN</td>\n      <td>https://occ-0-2851-38.1.nflxso.net/dnm/api/v6/...</td>\n      <td>NaN</td>\n      <td>NaN</td>\n      <td>NaN</td>\n    </tr>\n    <tr>\n      <th>84</th>\n      <td>DreamWorks Shreks Swamp Stories</td>\n      <td>NaN</td>\n      <td>Animal Tales,Family Comedies,Family Adventures...</td>\n      <td>NaN</td>\n      <td>Series</td>\n      <td>NaN</td>\n      <td>Russia,Hong Kong,Hungary,Australia,South Korea...</td>\n      <td>&lt; 30 minutes</td>\n      <td>NaN</td>\n      <td>NaN</td>\n      <td>...</td>\n      <td>2015-04-14</td>\n      <td>NaN</td>\n      <td>https://www.netflix.com/watch/70242630</td>\n      <td>NaN</td>\n      <td>Shrek celebrates Halloween, Puss in Boots is c...</td>\n      <td>NaN</td>\n      <td>https://occ-0-2851-38.1.nflxso.net/dnm/api/v6/...</td>\n      <td>NaN</td>\n      <td>NaN</td>\n      <td>NaN</td>\n    </tr>\n    <tr>\n      <th>85</th>\n      <td>DreamWorks Happy Holidays from Madagascar</td>\n      <td>Animation, Comedy, Family</td>\n      <td>TV Comedies,Kids TV,Animal Tales,TV Cartoons,T...</td>\n      <td>English</td>\n      <td>Series</td>\n      <td>8.4</td>\n      <td>Belgium,Switzerland,United States,Germany,Unit...</td>\n      <td>&lt; 30 minutes</td>\n      <td>NaN</td>\n      <td>NaN</td>\n      <td>...</td>\n      <td>2015-04-14</td>\n      <td>NaN</td>\n      <td>https://www.netflix.com/watch/70259784</td>\n      <td>NaN</td>\n      <td>Madagascar goes wild with holiday spirit in th...</td>\n      <td>71.0</td>\n      <td>https://occ-0-2773-2774.1.nflxso.net/dnm/api/v...</td>\n      <td>NaN</td>\n      <td>NaN</td>\n      <td>NaN</td>\n    </tr>\n    <tr>\n      <th>86</th>\n      <td>DreamWorks Holiday Classics</td>\n      <td>Animation, Comedy, Family</td>\n      <td>TV Comedies,Kids TV,TV Cartoons,TV Programmes,...</td>\n      <td>English</td>\n      <td>Series</td>\n      <td>8.2</td>\n      <td>Belgium,Switzerland,Germany,Argentina,United K...</td>\n      <td>&lt; 30 minutes</td>\n      <td>NaN</td>\n      <td>NaN</td>\n      <td>...</td>\n      <td>2015-04-14</td>\n      <td>Fox</td>\n      <td>https://www.netflix.com/watch/70221348</td>\n      <td>NaN</td>\n      <td>Join your DreamWorks friends for these four ho...</td>\n      <td>82.0</td>\n      <td>https://occ-0-2851-38.1.nflxso.net/dnm/api/v6/...</td>\n      <td>NaN</td>\n      <td>NaN</td>\n      <td>NaN</td>\n    </tr>\n    <tr>\n      <th>87</th>\n      <td>DreamWorks Kung Fu Panda Awesome Secrets</td>\n      <td>Animation, Action, Comedy, Family</td>\n      <td>TV Comedies,Kids TV,Animal Tales,TV Cartoons,T...</td>\n      <td>English</td>\n      <td>Series</td>\n      <td>8.1</td>\n      <td>Belgium,Switzerland,Germany,United Kingdom,Fra...</td>\n      <td>&lt; 30 minutes</td>\n      <td>NaN</td>\n      <td>NaN</td>\n      <td>...</td>\n      <td>2015-04-14</td>\n      <td>NaN</td>\n      <td>https://www.netflix.com/watch/70241791</td>\n      <td>NaN</td>\n      <td>In this pair of adventures, Po tells the story...</td>\n      <td>17.0</td>\n      <td>https://occ-0-2851-38.1.nflxso.net/dnm/api/v6/...</td>\n      <td>NaN</td>\n      <td>NaN</td>\n      <td>NaN</td>\n    </tr>\n  </tbody>\n</table>\n<p>5 rows × 29 columns</p>\n</div>"
          },
          "metadata": {}
        }
      ]
    },
    {
      "cell_type": "code",
      "source": "df.info()",
      "metadata": {
        "trusted": true
      },
      "execution_count": 35,
      "outputs": [
        {
          "name": "stdout",
          "text": "<class 'pandas.core.frame.DataFrame'>\nRangeIndex: 87 entries, 1 to 87\nData columns (total 29 columns):\n #   Column                                         Non-Null Count  Dtype  \n---  ------                                         --------------  -----  \n 0   Title                                          87 non-null     object \n 1   Genre                                          79 non-null     object \n 2   Tags                                           87 non-null     object \n 3   Languages                                      79 non-null     object \n 4   Series or Movie                                87 non-null     object \n 5   Low review count & high rating                 79 non-null     object \n 6   Netflix country availability                   87 non-null     object \n 7   How long the series or movie is                87 non-null     object \n 8   Director of content                            65 non-null     object \n 9   Writer of content                              69 non-null     object \n 10  Actors appearing in content                    77 non-null     object \n 11  Motion Picture Association film rating system  73 non-null     object \n 12  Score from IMDb                                79 non-null     float64\n 13  Score from Rotten Tomatoes                     61 non-null     float64\n 14  Score from Metacritic                          44 non-null     float64\n 15  Awards Received                                47 non-null     float64\n 16  Awards Nominated                               55 non-null     float64\n 17  Boxoffice revenue                              42 non-null     object \n 18  When the content was released                  75 non-null     object \n 19  When the content was released on Netflix       87 non-null     object \n 20  Production companies for the content           55 non-null     object \n 21  Link to content on Netflix                     87 non-null     object \n 22  Link to content on IMDb                        74 non-null     object \n 23  Content summary                                87 non-null     object \n 24  Votes on IMDb                                  79 non-null     float64\n 25  Image for content                              87 non-null     object \n 26  Poster for content                             72 non-null     object \n 27  Trailer for content                            56 non-null     object \n 28  Site where trailer is from                     56 non-null     object \ndtypes: float64(6), object(23)\nmemory usage: 12.0+ KB\n",
          "output_type": "stream"
        }
      ]
    },
    {
      "cell_type": "code",
      "source": "df[\"Director of content\"].unique()\n#this function returns the list of unique values in a column or series",
      "metadata": {
        "trusted": true
      },
      "execution_count": 39,
      "outputs": [
        {
          "execution_count": 39,
          "output_type": "execute_result",
          "data": {
            "text/plain": "array(['Martin McDonagh', 'David Fincher', 'Gabriele Muccino',\n       'Roger Spottiswoode', 'Paulette Victor-Lifton, John Stockwell',\n       'Joe Berlinger', 'John G. Avildsen',\n       'Malcolm D. Lee, David Zucker', nan,\n       'Jorge Blanco, Javier Abad, Marcos Martínez', 'Sylvester Stallone',\n       'Ang Lee', 'Andy Tennant', 'Toshiya Shinohara', 'Cody Cameron',\n       'David S. Goyer', 'Scott Spiegel', 'David Zucker',\n       'Robert Rodriguez', 'Tsutomu Hanabusa', 'Paul Haggis',\n       'Debbie Isitt', 'David Padrusch', 'Dwight H. Little',\n       'Kari Juusonen, Jørgen Lerdam', 'John Pasquin',\n       'Tony Jaa, Panna Rittikrai', 'Guillermo del Toro', 'Luc Besson',\n       'Peter Jackson', 'Rob Minkoff', 'Takashi Shimizu', 'Wilson Yip',\n       'Michael Bay', 'Keenen Ivory Wayans', 'Michael Patrick King',\n       'Bill Condon', 'Michael Tiddes', 'Michael Pressman',\n       'Michael Jai White', 'Clay Glen', 'Mike Fleiss', 'Roland Emmerich',\n       'Lance Bangs', 'Kunle Afolayan', 'James Mangold',\n       'Morgan Spurlock', 'Peter Segal', 'Robert Luketic', 'Harold Ramis',\n       'David Frankel', 'Julie Anne Robinson', 'Mark Davis, Noel Clarke',\n       'Géla Babluani', 'Patrick Alessandrin', 'Gary Winick',\n       'Jason Spingarn-Koff', 'Amos Gitai', 'Doesjka van Hoogdalem'],\n      dtype=object)"
          },
          "metadata": {}
        }
      ]
    },
    {
      "cell_type": "code",
      "source": "df[\"Director of content\"].nunique()\n#this function returns the count of unique values in a column or series",
      "metadata": {
        "trusted": true
      },
      "execution_count": 40,
      "outputs": [
        {
          "execution_count": 40,
          "output_type": "execute_result",
          "data": {
            "text/plain": "58"
          },
          "metadata": {}
        }
      ]
    },
    {
      "cell_type": "code",
      "source": "df.nunique()\n#this function returns the count of unique values for each column in dataset",
      "metadata": {
        "trusted": true
      },
      "execution_count": 41,
      "outputs": [
        {
          "execution_count": 41,
          "output_type": "execute_result",
          "data": {
            "text/plain": "Title                                            87\nGenre                                            58\nTags                                             77\nLanguages                                        30\nSeries or Movie                                   2\nLow review count & high rating                   42\nNetflix country availability                     68\nHow long the series or movie is                   3\nDirector of content                              58\nWriter of content                                61\nActors appearing in content                      72\nMotion Picture Association film rating system    11\nScore from IMDb                                  38\nScore from Rotten Tomatoes                       39\nScore from Metacritic                            28\nAwards Received                                  17\nAwards Nominated                                 25\nBoxoffice revenue                                42\nWhen the content was released                    73\nWhen the content was released on Netflix          1\nProduction companies for the content             52\nLink to content on Netflix                       87\nLink to content on IMDb                          74\nContent summary                                  87\nVotes on IMDb                                    79\nImage for content                                87\nPoster for content                               72\nTrailer for content                              56\nSite where trailer is from                        1\ndtype: int64"
          },
          "metadata": {}
        }
      ]
    },
    {
      "cell_type": "code",
      "source": "df.isnull()\n#This function helps you to check if there in which row and which column your data has missing values",
      "metadata": {
        "trusted": true
      },
      "execution_count": 43,
      "outputs": [
        {
          "execution_count": 43,
          "output_type": "execute_result",
          "data": {
            "text/plain": "    Title  Genre   Tags  Languages  Series or Movie  \\\n1   False  False  False      False            False   \n2   False  False  False      False            False   \n3   False  False  False      False            False   \n4   False  False  False      False            False   \n5   False  False  False      False            False   \n..    ...    ...    ...        ...              ...   \n83  False   True  False       True            False   \n84  False   True  False       True            False   \n85  False  False  False      False            False   \n86  False  False  False      False            False   \n87  False  False  False      False            False   \n\n    Low review count & high rating  Netflix country availability  \\\n1                            False                         False   \n2                            False                         False   \n3                            False                         False   \n4                            False                         False   \n5                            False                         False   \n..                             ...                           ...   \n83                            True                         False   \n84                            True                         False   \n85                           False                         False   \n86                           False                         False   \n87                           False                         False   \n\n    How long the series or movie is  Director of content  Writer of content  \\\n1                             False                False              False   \n2                             False                False              False   \n3                             False                False              False   \n4                             False                False              False   \n5                             False                False              False   \n..                              ...                  ...                ...   \n83                            False                 True               True   \n84                            False                 True               True   \n85                            False                 True               True   \n86                            False                 True               True   \n87                            False                 True               True   \n\n    ...  When the content was released on Netflix  \\\n1   ...                                     False   \n2   ...                                     False   \n3   ...                                     False   \n4   ...                                     False   \n5   ...                                     False   \n..  ...                                       ...   \n83  ...                                     False   \n84  ...                                     False   \n85  ...                                     False   \n86  ...                                     False   \n87  ...                                     False   \n\n    Production companies for the content  Link to content on Netflix  \\\n1                                  False                       False   \n2                                  False                       False   \n3                                  False                       False   \n4                                  False                       False   \n5                                  False                       False   \n..                                   ...                         ...   \n83                                  True                       False   \n84                                  True                       False   \n85                                  True                       False   \n86                                 False                       False   \n87                                  True                       False   \n\n    Link to content on IMDb  Content summary  Votes on IMDb  \\\n1                     False            False          False   \n2                     False            False          False   \n3                     False            False          False   \n4                     False            False          False   \n5                     False            False          False   \n..                      ...              ...            ...   \n83                     True            False           True   \n84                     True            False           True   \n85                     True            False          False   \n86                     True            False          False   \n87                     True            False          False   \n\n    Image for content  Poster for content  Trailer for content  \\\n1               False               False                False   \n2               False               False                False   \n3               False               False                False   \n4               False                True                False   \n5               False               False                False   \n..                ...                 ...                  ...   \n83              False                True                 True   \n84              False                True                 True   \n85              False                True                 True   \n86              False                True                 True   \n87              False                True                 True   \n\n    Site where trailer is from  \n1                        False  \n2                        False  \n3                        False  \n4                        False  \n5                        False  \n..                         ...  \n83                        True  \n84                        True  \n85                        True  \n86                        True  \n87                        True  \n\n[87 rows x 29 columns]",
            "text/html": "<div>\n<style scoped>\n    .dataframe tbody tr th:only-of-type {\n        vertical-align: middle;\n    }\n\n    .dataframe tbody tr th {\n        vertical-align: top;\n    }\n\n    .dataframe thead th {\n        text-align: right;\n    }\n</style>\n<table border=\"1\" class=\"dataframe\">\n  <thead>\n    <tr style=\"text-align: right;\">\n      <th></th>\n      <th>Title</th>\n      <th>Genre</th>\n      <th>Tags</th>\n      <th>Languages</th>\n      <th>Series or Movie</th>\n      <th>Low review count &amp; high rating</th>\n      <th>Netflix country availability</th>\n      <th>How long the series or movie is</th>\n      <th>Director of content</th>\n      <th>Writer of content</th>\n      <th>...</th>\n      <th>When the content was released on Netflix</th>\n      <th>Production companies for the content</th>\n      <th>Link to content on Netflix</th>\n      <th>Link to content on IMDb</th>\n      <th>Content summary</th>\n      <th>Votes on IMDb</th>\n      <th>Image for content</th>\n      <th>Poster for content</th>\n      <th>Trailer for content</th>\n      <th>Site where trailer is from</th>\n    </tr>\n  </thead>\n  <tbody>\n    <tr>\n      <th>1</th>\n      <td>False</td>\n      <td>False</td>\n      <td>False</td>\n      <td>False</td>\n      <td>False</td>\n      <td>False</td>\n      <td>False</td>\n      <td>False</td>\n      <td>False</td>\n      <td>False</td>\n      <td>...</td>\n      <td>False</td>\n      <td>False</td>\n      <td>False</td>\n      <td>False</td>\n      <td>False</td>\n      <td>False</td>\n      <td>False</td>\n      <td>False</td>\n      <td>False</td>\n      <td>False</td>\n    </tr>\n    <tr>\n      <th>2</th>\n      <td>False</td>\n      <td>False</td>\n      <td>False</td>\n      <td>False</td>\n      <td>False</td>\n      <td>False</td>\n      <td>False</td>\n      <td>False</td>\n      <td>False</td>\n      <td>False</td>\n      <td>...</td>\n      <td>False</td>\n      <td>False</td>\n      <td>False</td>\n      <td>False</td>\n      <td>False</td>\n      <td>False</td>\n      <td>False</td>\n      <td>False</td>\n      <td>False</td>\n      <td>False</td>\n    </tr>\n    <tr>\n      <th>3</th>\n      <td>False</td>\n      <td>False</td>\n      <td>False</td>\n      <td>False</td>\n      <td>False</td>\n      <td>False</td>\n      <td>False</td>\n      <td>False</td>\n      <td>False</td>\n      <td>False</td>\n      <td>...</td>\n      <td>False</td>\n      <td>False</td>\n      <td>False</td>\n      <td>False</td>\n      <td>False</td>\n      <td>False</td>\n      <td>False</td>\n      <td>False</td>\n      <td>False</td>\n      <td>False</td>\n    </tr>\n    <tr>\n      <th>4</th>\n      <td>False</td>\n      <td>False</td>\n      <td>False</td>\n      <td>False</td>\n      <td>False</td>\n      <td>False</td>\n      <td>False</td>\n      <td>False</td>\n      <td>False</td>\n      <td>False</td>\n      <td>...</td>\n      <td>False</td>\n      <td>False</td>\n      <td>False</td>\n      <td>False</td>\n      <td>False</td>\n      <td>False</td>\n      <td>False</td>\n      <td>True</td>\n      <td>False</td>\n      <td>False</td>\n    </tr>\n    <tr>\n      <th>5</th>\n      <td>False</td>\n      <td>False</td>\n      <td>False</td>\n      <td>False</td>\n      <td>False</td>\n      <td>False</td>\n      <td>False</td>\n      <td>False</td>\n      <td>False</td>\n      <td>False</td>\n      <td>...</td>\n      <td>False</td>\n      <td>False</td>\n      <td>False</td>\n      <td>False</td>\n      <td>False</td>\n      <td>False</td>\n      <td>False</td>\n      <td>False</td>\n      <td>False</td>\n      <td>False</td>\n    </tr>\n    <tr>\n      <th>...</th>\n      <td>...</td>\n      <td>...</td>\n      <td>...</td>\n      <td>...</td>\n      <td>...</td>\n      <td>...</td>\n      <td>...</td>\n      <td>...</td>\n      <td>...</td>\n      <td>...</td>\n      <td>...</td>\n      <td>...</td>\n      <td>...</td>\n      <td>...</td>\n      <td>...</td>\n      <td>...</td>\n      <td>...</td>\n      <td>...</td>\n      <td>...</td>\n      <td>...</td>\n      <td>...</td>\n    </tr>\n    <tr>\n      <th>83</th>\n      <td>False</td>\n      <td>True</td>\n      <td>False</td>\n      <td>True</td>\n      <td>False</td>\n      <td>True</td>\n      <td>False</td>\n      <td>False</td>\n      <td>True</td>\n      <td>True</td>\n      <td>...</td>\n      <td>False</td>\n      <td>True</td>\n      <td>False</td>\n      <td>True</td>\n      <td>False</td>\n      <td>True</td>\n      <td>False</td>\n      <td>True</td>\n      <td>True</td>\n      <td>True</td>\n    </tr>\n    <tr>\n      <th>84</th>\n      <td>False</td>\n      <td>True</td>\n      <td>False</td>\n      <td>True</td>\n      <td>False</td>\n      <td>True</td>\n      <td>False</td>\n      <td>False</td>\n      <td>True</td>\n      <td>True</td>\n      <td>...</td>\n      <td>False</td>\n      <td>True</td>\n      <td>False</td>\n      <td>True</td>\n      <td>False</td>\n      <td>True</td>\n      <td>False</td>\n      <td>True</td>\n      <td>True</td>\n      <td>True</td>\n    </tr>\n    <tr>\n      <th>85</th>\n      <td>False</td>\n      <td>False</td>\n      <td>False</td>\n      <td>False</td>\n      <td>False</td>\n      <td>False</td>\n      <td>False</td>\n      <td>False</td>\n      <td>True</td>\n      <td>True</td>\n      <td>...</td>\n      <td>False</td>\n      <td>True</td>\n      <td>False</td>\n      <td>True</td>\n      <td>False</td>\n      <td>False</td>\n      <td>False</td>\n      <td>True</td>\n      <td>True</td>\n      <td>True</td>\n    </tr>\n    <tr>\n      <th>86</th>\n      <td>False</td>\n      <td>False</td>\n      <td>False</td>\n      <td>False</td>\n      <td>False</td>\n      <td>False</td>\n      <td>False</td>\n      <td>False</td>\n      <td>True</td>\n      <td>True</td>\n      <td>...</td>\n      <td>False</td>\n      <td>False</td>\n      <td>False</td>\n      <td>True</td>\n      <td>False</td>\n      <td>False</td>\n      <td>False</td>\n      <td>True</td>\n      <td>True</td>\n      <td>True</td>\n    </tr>\n    <tr>\n      <th>87</th>\n      <td>False</td>\n      <td>False</td>\n      <td>False</td>\n      <td>False</td>\n      <td>False</td>\n      <td>False</td>\n      <td>False</td>\n      <td>False</td>\n      <td>True</td>\n      <td>True</td>\n      <td>...</td>\n      <td>False</td>\n      <td>True</td>\n      <td>False</td>\n      <td>True</td>\n      <td>False</td>\n      <td>False</td>\n      <td>False</td>\n      <td>True</td>\n      <td>True</td>\n      <td>True</td>\n    </tr>\n  </tbody>\n</table>\n<p>87 rows × 29 columns</p>\n</div>"
          },
          "metadata": {}
        }
      ]
    },
    {
      "cell_type": "code",
      "source": "df2 = df[df['When the content was released on Netflix'].isnull()]\n\n#current function says us that there is no null values in ",
      "metadata": {
        "trusted": true
      },
      "execution_count": 58,
      "outputs": []
    },
    {
      "cell_type": "code",
      "source": "df3 = df[df['Production companies for the content'].isnull()]\n\n#this line returns the dataset where the values in Production companies for the content are null",
      "metadata": {
        "trusted": true
      },
      "execution_count": 56,
      "outputs": []
    },
    {
      "cell_type": "code",
      "source": "df.value_counts('Director of content')",
      "metadata": {
        "trusted": true
      },
      "execution_count": 57,
      "outputs": [
        {
          "execution_count": 57,
          "output_type": "execute_result",
          "data": {
            "text/plain": "Director of content\nAmos Gitai                      1\nClay Glen                       1\nDavid Padrusch                  1\nDoesjka van Hoogdalem           1\nJason Spingarn-Koff             1\nJoe Berlinger                   1\nKari Juusonen, Jørgen Lerdam    1\nKunle Afolayan                  1\nMike Fleiss                     1\nPatrick Alessandrin             1\nTony Jaa, Panna Rittikrai       1\nWilson Yip                      1\ndtype: int64"
          },
          "metadata": {}
        }
      ]
    },
    {
      "cell_type": "code",
      "source": "",
      "metadata": {},
      "execution_count": null,
      "outputs": []
    }
  ]
}